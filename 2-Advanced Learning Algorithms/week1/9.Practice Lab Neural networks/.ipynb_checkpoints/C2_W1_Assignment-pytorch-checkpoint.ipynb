{
 "cells": [
  {
   "cell_type": "markdown",
   "metadata": {},
   "source": [
    "# Neural Networks for Handwritten Digit Recognition, Binary\n",
    "\n",
    "In this exercise, you will use a neural network to recognize the hand-written digits zero and one.\n",
    "\n",
    "\n",
    "# Outline\n",
    "- [ 1 - Packages ](#1)\n",
    "- [ 2 - Neural Networks](#2)\n",
    "  - [ 2.1 Problem Statement](#2.1)\n",
    "  - [ 2.2 Dataset](#2.2)\n",
    "  - [ 2.3 Model representation](#2.3)\n",
    "  - [ 2.4 Tensorflow Model Implementation](#2.4)\n",
    "    - [ Exercise 1](#ex01)\n",
    "  - [ 2.5 NumPy Model Implementation (Forward Prop in NumPy)](#2.5)\n",
    "    - [ Exercise 2](#ex02)\n",
    "  - [ 2.6 Vectorized NumPy Model Implementation (Optional)](#2.6)\n",
    "    - [ Exercise 3](#ex03)\n",
    "  - [ 2.7 Congratulations!](#2.7)\n",
    "  - [ 2.8 NumPy Broadcasting Tutorial (Optional)](#2.8)\n"
   ]
  },
  {
   "cell_type": "markdown",
   "metadata": {
    "tags": []
   },
   "source": [
    "<a name=\"1\"></a>\n",
    "## 1 - Packages \n",
    "\n",
    "First, let's run the cell below to import all the packages that you will need during this assignment.\n",
    "- [numpy](https://numpy.org/) is the fundamental package for scientific computing with Python.\n",
    "- [matplotlib](http://matplotlib.org) is a popular library to plot graphs in Python.\n",
    "- [tensorflow](https://www.tensorflow.org/) a popular platform for machine learning."
   ]
  },
  {
   "cell_type": "code",
   "execution_count": 1,
   "metadata": {},
   "outputs": [],
   "source": [
    "# import numpy as np\n",
    "# import tensorflow as tf\n",
    "# from tensorflow.keras.models import Sequential\n",
    "# from tensorflow.keras.layers import Dense\n",
    "# import matplotlib.pyplot as plt\n",
    "# from autils import *\n",
    "# %matplotlib inline\n",
    "\n",
    "# import logging\n",
    "# logging.getLogger(\"tensorflow\").setLevel(logging.ERROR)\n",
    "# tf.autograph.set_verbosity(0)\n",
    "\n",
    "###pytorch改写\n",
    "import numpy as np\n",
    "import torch as tc\n",
    "import torch.nn as nn\n",
    "import matplotlib.pyplot as plt\n",
    "from autils import *\n",
    "%matplotlib inline\n",
    "\n",
    "import logging\n",
    "logging.getLogger(\"torch\").setLevel(logging.ERROR)"
   ]
  },
  {
   "cell_type": "markdown",
   "metadata": {},
   "source": [
    "**Tensorflow and Keras**  \n",
    "Tensorflow is a machine learning package developed by Google. In 2019, Google integrated Keras into Tensorflow and released Tensorflow 2.0. Keras is a framework developed independently by François Chollet that creates a simple, layer-centric interface to Tensorflow. This course will be using the Keras interface. "
   ]
  },
  {
   "cell_type": "markdown",
   "metadata": {
    "tags": []
   },
   "source": [
    "<a name=\"2\"></a>\n",
    "## 2 - Neural Networks\n",
    "\n",
    "In Course 1, you implemented logistic regression. This was extended to handle non-linear boundaries using polynomial regression. For even more complex scenarios such as image recognition, neural networks are preferred.\n",
    "\n",
    "<a name=\"2.1\"></a>\n",
    "### 2.1 Problem Statement\n",
    "\n",
    "In this exercise, you will use a neural network to recognize two handwritten digits, zero and one. This is a binary classification task. Automated handwritten digit recognition is widely used today - from recognizing zip codes (postal codes) on mail envelopes to recognizing amounts written on bank checks. You will extend this network to recognize all 10 digits (0-9) in a future assignment. \n",
    "\n",
    "This exercise will show you how the methods you have learned can be used for this classification task.\n",
    "\n",
    "<a name=\"2.2\"></a>\n",
    "### 2.2 Dataset\n",
    "\n",
    "You will start by loading the dataset for this task. \n",
    "- The `load_data()` function shown below loads the data into variables `X` and `y`\n",
    "\n",
    "\n",
    "- The data set contains 1000 training examples of handwritten digits $^1$, here limited to zero and one.  \n",
    "\n",
    "    - Each training example is a 20-pixel x 20-pixel grayscale image of the digit. \n",
    "        - Each pixel is represented by a floating-point number indicating the grayscale intensity at that location. \n",
    "        - The 20 by 20 grid of pixels is “unrolled” into a 400-dimensional vector. \n",
    "        - Each training example becomes a single row in our data matrix `X`. \n",
    "        - This gives us a 1000 x 400 matrix `X` where every row is a training example of a handwritten digit image.\n",
    "\n",
    "$$X = \n",
    "\\left(\\begin{array}{cc} \n",
    "--- (x^{(1)}) --- \\\\\n",
    "--- (x^{(2)}) --- \\\\\n",
    "\\vdots \\\\ \n",
    "--- (x^{(m)}) --- \n",
    "\\end{array}\\right)$$ \n",
    "\n",
    "- The second part of the training set is a 1000 x 1 dimensional vector `y` that contains labels for the training set\n",
    "    - `y = 0` if the image is of the digit `0`, `y = 1` if the image is of the digit `1`.\n",
    "\n",
    "$^1$<sub> This is a subset of the MNIST handwritten digit dataset (http://yann.lecun.com/exdb/mnist/)</sub>"
   ]
  },
  {
   "cell_type": "code",
   "execution_count": 2,
   "metadata": {},
   "outputs": [],
   "source": [
    "# load dataset\n",
    "X, y = load_data()"
   ]
  },
  {
   "cell_type": "markdown",
   "metadata": {},
   "source": [
    "<a name=\"toc_89367_2.2.1\"></a>\n",
    "#### 2.2.1 View the variables\n",
    "Let's get more familiar with your dataset.  \n",
    "- A good place to start is to print out each variable and see what it contains.\n",
    "\n",
    "The code below prints elements of the variables `X` and `y`.  "
   ]
  },
  {
   "cell_type": "code",
   "execution_count": 3,
   "metadata": {
    "scrolled": true
   },
   "outputs": [
    {
     "name": "stdout",
     "output_type": "stream",
     "text": [
      "The first element of X is:  [ 0.00000000e+00  0.00000000e+00  0.00000000e+00  0.00000000e+00\n",
      "  0.00000000e+00  0.00000000e+00  0.00000000e+00  0.00000000e+00\n",
      "  0.00000000e+00  0.00000000e+00  0.00000000e+00  0.00000000e+00\n",
      "  0.00000000e+00  0.00000000e+00  0.00000000e+00  0.00000000e+00\n",
      "  0.00000000e+00  0.00000000e+00  0.00000000e+00  0.00000000e+00\n",
      "  0.00000000e+00  0.00000000e+00  0.00000000e+00  0.00000000e+00\n",
      "  0.00000000e+00  0.00000000e+00  0.00000000e+00  0.00000000e+00\n",
      "  0.00000000e+00  0.00000000e+00  0.00000000e+00  0.00000000e+00\n",
      "  0.00000000e+00  0.00000000e+00  0.00000000e+00  0.00000000e+00\n",
      "  0.00000000e+00  0.00000000e+00  0.00000000e+00  0.00000000e+00\n",
      "  0.00000000e+00  0.00000000e+00  0.00000000e+00  0.00000000e+00\n",
      "  0.00000000e+00  0.00000000e+00  0.00000000e+00  0.00000000e+00\n",
      "  0.00000000e+00  0.00000000e+00  0.00000000e+00  0.00000000e+00\n",
      "  0.00000000e+00  0.00000000e+00  0.00000000e+00  0.00000000e+00\n",
      "  0.00000000e+00  0.00000000e+00  0.00000000e+00  0.00000000e+00\n",
      "  0.00000000e+00  0.00000000e+00  0.00000000e+00  0.00000000e+00\n",
      "  0.00000000e+00  0.00000000e+00  0.00000000e+00  8.56059680e-06\n",
      "  1.94035948e-06 -7.37438725e-04 -8.13403799e-03 -1.86104473e-02\n",
      " -1.87412865e-02 -1.87572508e-02 -1.90963542e-02 -1.64039011e-02\n",
      " -3.78191381e-03  3.30347316e-04  1.27655229e-05  0.00000000e+00\n",
      "  0.00000000e+00  0.00000000e+00  0.00000000e+00  0.00000000e+00\n",
      "  0.00000000e+00  0.00000000e+00  1.16421569e-04  1.20052179e-04\n",
      " -1.40444581e-02 -2.84542484e-02  8.03826593e-02  2.66540339e-01\n",
      "  2.73853746e-01  2.78729541e-01  2.74293607e-01  2.24676403e-01\n",
      "  2.77562977e-02 -7.06315478e-03  2.34715414e-04  0.00000000e+00\n",
      "  0.00000000e+00  0.00000000e+00  0.00000000e+00  0.00000000e+00\n",
      "  0.00000000e+00  1.28335523e-17 -3.26286765e-04 -1.38651604e-02\n",
      "  8.15651552e-02  3.82800381e-01  8.57849775e-01  1.00109761e+00\n",
      "  9.69710638e-01  9.30928598e-01  1.00383757e+00  9.64157356e-01\n",
      "  4.49256553e-01 -5.60408259e-03 -3.78319036e-03  0.00000000e+00\n",
      "  0.00000000e+00  0.00000000e+00  0.00000000e+00  5.10620915e-06\n",
      "  4.36410675e-04 -3.95509940e-03 -2.68537241e-02  1.00755014e-01\n",
      "  6.42031710e-01  1.03136838e+00  8.50968614e-01  5.43122379e-01\n",
      "  3.42599738e-01  2.68918777e-01  6.68374643e-01  1.01256958e+00\n",
      "  9.03795598e-01  1.04481574e-01 -1.66424973e-02  0.00000000e+00\n",
      "  0.00000000e+00  0.00000000e+00  0.00000000e+00  2.59875260e-05\n",
      " -3.10606987e-03  7.52456076e-03  1.77539831e-01  7.92890120e-01\n",
      "  9.65626503e-01  4.63166079e-01  6.91720680e-02 -3.64100526e-03\n",
      " -4.12180405e-02 -5.01900656e-02  1.56102907e-01  9.01762651e-01\n",
      "  1.04748346e+00  1.51055252e-01 -2.16044665e-02  0.00000000e+00\n",
      "  0.00000000e+00  0.00000000e+00  5.87012352e-05 -6.40931373e-04\n",
      " -3.23305249e-02  2.78203465e-01  9.36720163e-01  1.04320956e+00\n",
      "  5.98003217e-01 -3.59409041e-03 -2.16751770e-02 -4.81021923e-03\n",
      "  6.16566793e-05 -1.23773318e-02  1.55477482e-01  9.14867477e-01\n",
      "  9.20401348e-01  1.09173902e-01 -1.71058007e-02  0.00000000e+00\n",
      "  0.00000000e+00  1.56250000e-04 -4.27724104e-04 -2.51466503e-02\n",
      "  1.30532561e-01  7.81664862e-01  1.02836583e+00  7.57137601e-01\n",
      "  2.84667194e-01  4.86865128e-03 -3.18688725e-03  0.00000000e+00\n",
      "  8.36492601e-04 -3.70751123e-02  4.52644165e-01  1.03180133e+00\n",
      "  5.39028101e-01 -2.43742611e-03 -4.80290033e-03  0.00000000e+00\n",
      "  0.00000000e+00 -7.03635621e-04 -1.27262443e-02  1.61706648e-01\n",
      "  7.79865383e-01  1.03676705e+00  8.04490400e-01  1.60586724e-01\n",
      " -1.38173339e-02  2.14879493e-03 -2.12622549e-04  2.04248366e-04\n",
      " -6.85907627e-03  4.31712963e-04  7.20680947e-01  8.48136063e-01\n",
      "  1.51383408e-01 -2.28404366e-02  1.98971950e-04  0.00000000e+00\n",
      "  0.00000000e+00 -9.40410539e-03  3.74520505e-02  6.94389110e-01\n",
      "  1.02844844e+00  1.01648066e+00  8.80488426e-01  3.92123945e-01\n",
      " -1.74122413e-02 -1.20098039e-04  5.55215142e-05 -2.23907271e-03\n",
      " -2.76068376e-02  3.68645493e-01  9.36411169e-01  4.59006723e-01\n",
      " -4.24701797e-02  1.17356610e-03  1.88929739e-05  0.00000000e+00\n",
      "  0.00000000e+00 -1.93511951e-02  1.29999794e-01  9.79821705e-01\n",
      "  9.41862388e-01  7.75147704e-01  8.73632241e-01  2.12778350e-01\n",
      " -1.72353349e-02  0.00000000e+00  1.09937426e-03 -2.61793751e-02\n",
      "  1.22872879e-01  8.30812662e-01  7.26501773e-01  5.24441863e-02\n",
      " -6.18971913e-03  0.00000000e+00  0.00000000e+00  0.00000000e+00\n",
      "  0.00000000e+00 -9.36563862e-03  3.68349741e-02  6.99079299e-01\n",
      "  1.00293583e+00  6.05704402e-01  3.27299224e-01 -3.22099249e-02\n",
      " -4.83053002e-02 -4.34069138e-02 -5.75151144e-02  9.55674190e-02\n",
      "  7.26512627e-01  6.95366966e-01  1.47114481e-01 -1.20048679e-02\n",
      " -3.02798203e-04  0.00000000e+00  0.00000000e+00  0.00000000e+00\n",
      "  0.00000000e+00 -6.76572712e-04 -6.51415556e-03  1.17339359e-01\n",
      "  4.21948410e-01  9.93210937e-01  8.82013974e-01  7.45758734e-01\n",
      "  7.23874268e-01  7.23341725e-01  7.20020340e-01  8.45324959e-01\n",
      "  8.31859739e-01  6.88831870e-02 -2.77765012e-02  3.59136710e-04\n",
      "  7.14869281e-05  0.00000000e+00  0.00000000e+00  0.00000000e+00\n",
      "  0.00000000e+00  1.53186275e-04  3.17353553e-04 -2.29167177e-02\n",
      " -4.14402914e-03  3.87038450e-01  5.04583435e-01  7.74885876e-01\n",
      "  9.90037446e-01  1.00769478e+00  1.00851440e+00  7.37905042e-01\n",
      "  2.15455291e-01 -2.69624864e-02  1.32506127e-03  0.00000000e+00\n",
      "  0.00000000e+00  0.00000000e+00  0.00000000e+00  0.00000000e+00\n",
      "  0.00000000e+00  0.00000000e+00  0.00000000e+00  2.36366422e-04\n",
      " -2.26031454e-03 -2.51994485e-02 -3.73889910e-02  6.62121228e-02\n",
      "  2.91134498e-01  3.23055726e-01  3.06260315e-01  8.76070942e-02\n",
      " -2.50581917e-02  2.37438725e-04  0.00000000e+00  0.00000000e+00\n",
      "  0.00000000e+00  0.00000000e+00  0.00000000e+00  0.00000000e+00\n",
      "  0.00000000e+00  0.00000000e+00  0.00000000e+00  0.00000000e+00\n",
      "  0.00000000e+00  6.20939216e-18  6.72618320e-04 -1.13151411e-02\n",
      " -3.54641066e-02 -3.88214912e-02 -3.71077412e-02 -1.33524928e-02\n",
      "  9.90964718e-04  4.89176960e-05  0.00000000e+00  0.00000000e+00\n",
      "  0.00000000e+00  0.00000000e+00  0.00000000e+00  0.00000000e+00\n",
      "  0.00000000e+00  0.00000000e+00  0.00000000e+00  0.00000000e+00\n",
      "  0.00000000e+00  0.00000000e+00  0.00000000e+00  0.00000000e+00\n",
      "  0.00000000e+00  0.00000000e+00  0.00000000e+00  0.00000000e+00\n",
      "  0.00000000e+00  0.00000000e+00  0.00000000e+00  0.00000000e+00\n",
      "  0.00000000e+00  0.00000000e+00  0.00000000e+00  0.00000000e+00\n",
      "  0.00000000e+00  0.00000000e+00  0.00000000e+00  0.00000000e+00\n",
      "  0.00000000e+00  0.00000000e+00  0.00000000e+00  0.00000000e+00\n",
      "  0.00000000e+00  0.00000000e+00  0.00000000e+00  0.00000000e+00\n",
      "  0.00000000e+00  0.00000000e+00  0.00000000e+00  0.00000000e+00\n",
      "  0.00000000e+00  0.00000000e+00  0.00000000e+00  0.00000000e+00]\n"
     ]
    }
   ],
   "source": [
    "print ('The first element of X is: ', X[0])"
   ]
  },
  {
   "cell_type": "code",
   "execution_count": 4,
   "metadata": {},
   "outputs": [
    {
     "name": "stdout",
     "output_type": "stream",
     "text": [
      "The first element of y is:  0\n",
      "The last element of y is:  1\n"
     ]
    }
   ],
   "source": [
    "print ('The first element of y is: ', y[0,0])\n",
    "print ('The last element of y is: ', y[-1,0])"
   ]
  },
  {
   "cell_type": "markdown",
   "metadata": {},
   "source": [
    "<a name=\"toc_89367_2.2.2\"></a>\n",
    "#### 2.2.2 Check the dimensions of your variables\n",
    "\n",
    "Another way to get familiar with your data is to view its dimensions. Please print the shape of `X` and `y` and see how many training examples you have in your dataset."
   ]
  },
  {
   "cell_type": "code",
   "execution_count": 5,
   "metadata": {},
   "outputs": [
    {
     "name": "stdout",
     "output_type": "stream",
     "text": [
      "The shape of X is: (1000, 400)\n",
      "The shape of y is: (1000, 1)\n"
     ]
    }
   ],
   "source": [
    "print ('The shape of X is: ' + str(X.shape))\n",
    "print ('The shape of y is: ' + str(y.shape))"
   ]
  },
  {
   "cell_type": "markdown",
   "metadata": {},
   "source": [
    "<a name=\"toc_89367_2.2.3\"></a>\n",
    "#### 2.2.3 Visualizing the Data\n",
    "\n",
    "You will begin by visualizing a subset of the training set. \n",
    "- In the cell below, the code randomly selects 64 rows from `X`, maps each row back to a 20 pixel by 20 pixel grayscale image and displays the images together. \n",
    "- The label for each image is displayed above the image "
   ]
  },
  {
   "cell_type": "code",
   "execution_count": 6,
   "metadata": {},
   "outputs": [
    {
     "data": {
      "image/png": "[encoded data removed]",
      "text/plain": [
       "<Figure size 800x800 with 64 Axes>"
      ]
     },
     "metadata": {},
     "output_type": "display_data"
    }
   ],
   "source": [
    "import warnings\n",
    "warnings.simplefilter(action='ignore', category=FutureWarning)\n",
    "# You do not need to modify anything in this cell\n",
    "\n",
    "m, n = X.shape\n",
    "\n",
    "fig, axes = plt.subplots(8,8, figsize=(8,8))\n",
    "fig.tight_layout(pad=0.1)\n",
    "\n",
    "for i,ax in enumerate(axes.flat):\n",
    "    # Select random indices\n",
    "    random_index = np.random.randint(m)\n",
    "    \n",
    "    # Select rows corresponding to the random indices and\n",
    "    # reshape the image\n",
    "    X_random_reshaped = X[random_index].reshape((20,20)).T\n",
    "    \n",
    "    # Display the image\n",
    "    ax.imshow(X_random_reshaped, cmap='gray')\n",
    "    \n",
    "    # Display the label above the image\n",
    "    ax.set_title(y[random_index,0])\n",
    "    ax.set_axis_off()"
   ]
  },
  {
   "cell_type": "markdown",
   "metadata": {},
   "source": [
    "<a name=\"2.3\"></a>\n",
    "### 2.3 Model representation\n",
    "\n",
    "The neural network you will use in this assignment is shown in the figure below. \n",
    "- This has three dense layers with sigmoid activations.\n",
    "    - Recall that our inputs are pixel values of digit images.\n",
    "    - Since the images are of size $20\\times20$, this gives us $400$ inputs  \n",
    "    \n",
    "<img src=\"images/C2_W1_Assign1.PNG\" width=\"500\" height=\"400\">"
   ]
  },
  {
   "cell_type": "markdown",
   "metadata": {},
   "source": [
    "- The parameters have dimensions that are sized for a neural network with $25$ units in layer 1, $15$ units in layer 2 and $1$ output unit in layer 3. \n",
    "\n",
    "    - Recall that the dimensions of these parameters are determined as follows:\n",
    "        - If network has $s_{in}$ units in a layer and $s_{out}$ units in the next layer, then \n",
    "            - $W$ will be of dimension $s_{in} \\times s_{out}$.\n",
    "            - $b$ will a vector with $s_{out}$ elements\n",
    "  \n",
    "    - Therefore, the shapes of `W`, and `b`,  are \n",
    "        - layer1: The shape of `W1` is (400, 25) and the shape of `b1` is (25,)\n",
    "        - layer2: The shape of `W2` is (25, 15) and the shape of `b2` is: (15,)\n",
    "        - layer3: The shape of `W3` is (15, 1) and the shape of `b3` is: (1,)\n",
    ">**Note:** The bias vector `b` could be represented as a 1-D (n,) or 2-D (n,1) array. Tensorflow utilizes a 1-D representation and this lab will maintain that convention. \n",
    "               "
   ]
  },
  {
   "cell_type": "markdown",
   "metadata": {},
   "source": [
    "<a name=\"2.4\"></a>\n",
    "### 2.4 Tensorflow Model Implementation\n"
   ]
  },
  {
   "cell_type": "markdown",
   "metadata": {},
   "source": [
    "Tensorflow models are built layer by layer. A layer's input dimensions ($s_{in}$ above) are calculated for you. You specify a layer's *output dimensions* and this determines the next layer's input dimension. The input dimension of the first layer is derived from the size of the input data specified in the `model.fit` statment below. \n",
    ">**Note:** It is also possible to add an input layer that specifies the input dimension of the first layer. For example:  \n",
    "`tf.keras.Input(shape=(400,)),    #specify input shape`  \n",
    "We will include that here to illuminate some model sizing."
   ]
  },
  {
   "cell_type": "markdown",
   "metadata": {},
   "source": [
    "<a name=\"ex01\"></a>\n",
    "### Exercise 1\n",
    "\n",
    "Below, using Keras [Sequential model](https://keras.io/guides/sequential_model/) and [Dense Layer](https://keras.io/api/layers/core_layers/dense/) with a sigmoid activation to construct the network described above."
   ]
  },
  {
   "cell_type": "code",
   "execution_count": 7,
   "metadata": {},
   "outputs": [],
   "source": [
    "model = nn.Sequential(\n",
    "    nn.Linear(400, 25),\n",
    "    nn.Sigmoid(),\n",
    "    nn.Linear(25, 15),\n",
    "    nn.Sigmoid(),\n",
    "    nn.Linear(15, 1),\n",
    "    nn.Sigmoid()\n",
    ")"
   ]
  },
  {
   "cell_type": "code",
   "execution_count": 8,
   "metadata": {},
   "outputs": [
    {
     "name": "stdout",
     "output_type": "stream",
     "text": [
      "Sequential(\n",
      "  (0): Linear(in_features=400, out_features=25, bias=True)\n",
      "  (1): Sigmoid()\n",
      "  (2): Linear(in_features=25, out_features=15, bias=True)\n",
      "  (3): Sigmoid()\n",
      "  (4): Linear(in_features=15, out_features=1, bias=True)\n",
      "  (5): Sigmoid()\n",
      ")\n"
     ]
    }
   ],
   "source": [
    "print(model)"
   ]
  },
  {
   "cell_type": "markdown",
   "metadata": {},
   "source": [
    "<details>\n",
    "  <summary><font size=\"3\" color=\"darkgreen\"><b>Expected Output (Click to Expand) </b></font></summary>\n",
    "The `model.summary()` function displays a useful summary of the model. Because we have specified an input layer size, the shape of the weight and bias arrays are determined and the total number of parameters per layer can be shown. Note, the names of the layers may vary as they are auto-generated.  \n",
    "    \n",
    "    \n",
    "```\n",
    "Model: \"my_model\"\n",
    "_________________________________________________________________\n",
    "Layer (type)                 Output Shape              Param #   \n",
    "=================================================================\n",
    "dense (Dense)                (None, 25)                10025     \n",
    "_________________________________________________________________\n",
    "dense_1 (Dense)              (None, 15)                390       \n",
    "_________________________________________________________________\n",
    "dense_2 (Dense)              (None, 1)                 16        \n",
    "=================================================================\n",
    "Total params: 10,431\n",
    "Trainable params: 10,431\n",
    "Non-trainable params: 0\n",
    "_________________________________________________________________\n",
    "```"
   ]
  },
  {
   "cell_type": "markdown",
   "metadata": {},
   "source": [
    "<details>\n",
    "  <summary><font size=\"3\" color=\"darkgreen\"><b>Click for hints</b></font></summary>\n",
    "As described in the lecture:\n",
    "    \n",
    "```python\n",
    "model = Sequential(                      \n",
    "    [                                   \n",
    "        tf.keras.Input(shape=(400,)),    # specify input size (optional)\n",
    "        Dense(25, activation='sigmoid'), \n",
    "        Dense(15, activation='sigmoid'), \n",
    "        Dense(1,  activation='sigmoid')  \n",
    "    ], name = \"my_model\"                                    \n",
    ")                                       \n",
    "``` "
   ]
  },
  {
   "cell_type": "markdown",
   "metadata": {},
   "source": [
    "The parameter counts shown in the summary correspond to the number of elements in the weight and bias arrays as shown below."
   ]
  },
  {
   "cell_type": "code",
   "execution_count": 9,
   "metadata": {},
   "outputs": [
    {
     "name": "stdout",
     "output_type": "stream",
     "text": [
      "L1 params =  10025 , L2 params =  390 ,  L3 params =  16\n"
     ]
    }
   ],
   "source": [
    "L1_num_params = 400 * 25 + 25  # W1 parameters  + b1 parameters\n",
    "L2_num_params = 25 * 15 + 15   # W2 parameters  + b2 parameters\n",
    "L3_num_params = 15 * 1 + 1     # W3 parameters  + b3 parameters\n",
    "print(\"L1 params = \", L1_num_params, \", L2 params = \", L2_num_params, \",  L3 params = \", L3_num_params )"
   ]
  },
  {
   "cell_type": "markdown",
   "metadata": {},
   "source": [
    "Let's further examine the weights to verify that tensorflow produced the same dimensions as we calculated above."
   ]
  },
  {
   "cell_type": "code",
   "execution_count": 11,
   "metadata": {},
   "outputs": [],
   "source": [
    "# [layer1, layer2, layer3] = model.layers\n",
    "layers = list(model.children())"
   ]
  },
  {
   "cell_type": "code",
   "execution_count": 14,
   "metadata": {
    "tags": []
   },
   "outputs": [
    {
     "name": "stdout",
     "output_type": "stream",
     "text": [
      "第一个子层的权重形状为: torch.Size([25, 400])\n",
      "第一个子层的偏置项形状为: torch.Size([25])\n"
     ]
    }
   ],
   "source": [
    "# 假设你想获取第一个子层的权重和偏置项形状\n",
    "first_layer = layers[0]\n",
    "\n",
    "# 获取权重的形状\n",
    "weight_shape = first_layer.weight.shape\n",
    "print(f\"第一个子层的权重形状为: {weight_shape}\")\n",
    "\n",
    "# 获取偏置项的形状\n",
    "bias_shape = first_layer.bias.shape\n",
    "print(f\"第一个子层的偏置项形状为: {bias_shape}\")\n"
   ]
  },
  {
   "cell_type": "code",
   "execution_count": 15,
   "metadata": {},
   "outputs": [
    {
     "name": "stdout",
     "output_type": "stream",
     "text": [
      "W1 shape = torch.Size([25, 400]), b1 shape = torch.Size([25])\n",
      "W2 shape = torch.Size([15, 25]), b2 shape = torch.Size([15])\n",
      "W3 shape = torch.Size([1, 15]), b3 shape = torch.Size([1])\n"
     ]
    }
   ],
   "source": [
    "# #### Examine Weights shapes\n",
    "# W1,b1 = layer1.get_weights()\n",
    "# W2,b2 = layer2.get_weights()\n",
    "# W3,b3 = layer3.get_weights()\n",
    "# print(f\"W1 shape = {W1.shape}, b1 shape = {b1.shape}\")\n",
    "# print(f\"W2 shape = {W2.shape}, b2 shape = {b2.shape}\")\n",
    "# print(f\"W3 shape = {W3.shape}, b3 shape = {b3.shape}\")\n",
    "\n",
    "\n",
    "# 检查权重形状\n",
    "W1, b1 = model[0].weight, model[0].bias\n",
    "W2, b2 = model[2].weight, model[2].bias\n",
    "W3, b3 = model[4].weight, model[4].bias\n",
    "\n",
    "print(f\"W1 shape = {W1.shape}, b1 shape = {b1.shape}\")\n",
    "print(f\"W2 shape = {W2.shape}, b2 shape = {b2.shape}\")\n",
    "print(f\"W3 shape = {W3.shape}, b3 shape = {b3.shape}\")\n"
   ]
  },
  {
   "cell_type": "markdown",
   "metadata": {},
   "source": [
    "**Expected Output**\n",
    "```\n",
    "W1 shape = (400, 25), b1 shape = (25,)  \n",
    "W2 shape = (25, 15), b2 shape = (15,)  \n",
    "W3 shape = (15, 1), b3 shape = (1,)\n",
    "```"
   ]
  },
  {
   "cell_type": "markdown",
   "metadata": {},
   "source": [
    "`xx.get_weights` returns a NumPy array. One can also access the weights directly in their tensor form. Note the shape of the tensors in the final layer."
   ]
  },
  {
   "cell_type": "code",
   "execution_count": 16,
   "metadata": {},
   "outputs": [
    {
     "name": "stdout",
     "output_type": "stream",
     "text": [
      "Parameter containing:\n",
      "tensor([[-0.0107,  0.0335,  0.0468,  ..., -0.0283,  0.0419, -0.0272],\n",
      "        [ 0.0473,  0.0372, -0.0285,  ..., -0.0288, -0.0399,  0.0242],\n",
      "        [ 0.0430,  0.0365,  0.0050,  ..., -0.0364,  0.0392, -0.0408],\n",
      "        ...,\n",
      "        [ 0.0133,  0.0068, -0.0197,  ..., -0.0060,  0.0349,  0.0309],\n",
      "        [-0.0349, -0.0118,  0.0295,  ..., -0.0044,  0.0021, -0.0241],\n",
      "        [-0.0264, -0.0282,  0.0103,  ..., -0.0341, -0.0152,  0.0368]],\n",
      "       requires_grad=True) Parameter containing:\n",
      "tensor([-0.0384,  0.0299, -0.0031,  0.0149, -0.0388,  0.0255, -0.0498, -0.0426,\n",
      "        -0.0498, -0.0400, -0.0094, -0.0381,  0.0062,  0.0103, -0.0015,  0.0495,\n",
      "         0.0311,  0.0474,  0.0148,  0.0168,  0.0445, -0.0347,  0.0251,  0.0212,\n",
      "         0.0094], requires_grad=True)\n"
     ]
    }
   ],
   "source": [
    "print(layers[0].weight, layers[0].bias)"
   ]
  },
  {
   "cell_type": "markdown",
   "metadata": {},
   "source": [
    "The following code will define a loss function and run gradient descent to fit the weights of the model to the training data. This will be explained in more detail in the following week."
   ]
  },
  {
   "cell_type": "code",
   "execution_count": 18,
   "metadata": {
    "scrolled": true
   },
   "outputs": [
    {
     "name": "stdout",
     "output_type": "stream",
     "text": [
      "Epoch [1/300], Loss: 0.0669\n",
      "Epoch [2/300], Loss: 0.0662\n",
      "Epoch [3/300], Loss: 0.0655\n",
      "Epoch [4/300], Loss: 0.0648\n",
      "Epoch [5/300], Loss: 0.0641\n",
      "Epoch [6/300], Loss: 0.0634\n",
      "Epoch [7/300], Loss: 0.0628\n",
      "Epoch [8/300], Loss: 0.0621\n",
      "Epoch [9/300], Loss: 0.0615\n",
      "Epoch [10/300], Loss: 0.0609\n",
      "Epoch [11/300], Loss: 0.0603\n",
      "Epoch [12/300], Loss: 0.0597\n",
      "Epoch [13/300], Loss: 0.0591\n",
      "Epoch [14/300], Loss: 0.0585\n",
      "Epoch [15/300], Loss: 0.0579\n",
      "Epoch [16/300], Loss: 0.0573\n",
      "Epoch [17/300], Loss: 0.0568\n",
      "Epoch [18/300], Loss: 0.0562\n",
      "Epoch [19/300], Loss: 0.0557\n",
      "Epoch [20/300], Loss: 0.0552\n",
      "Epoch [21/300], Loss: 0.0547\n",
      "Epoch [22/300], Loss: 0.0542\n",
      "Epoch [23/300], Loss: 0.0537\n",
      "Epoch [24/300], Loss: 0.0532\n",
      "Epoch [25/300], Loss: 0.0527\n",
      "Epoch [26/300], Loss: 0.0522\n",
      "Epoch [27/300], Loss: 0.0518\n",
      "Epoch [28/300], Loss: 0.0513\n",
      "Epoch [29/300], Loss: 0.0509\n",
      "Epoch [30/300], Loss: 0.0504\n",
      "Epoch [31/300], Loss: 0.0500\n",
      "Epoch [32/300], Loss: 0.0496\n",
      "Epoch [33/300], Loss: 0.0491\n",
      "Epoch [34/300], Loss: 0.0487\n",
      "Epoch [35/300], Loss: 0.0483\n",
      "Epoch [36/300], Loss: 0.0479\n",
      "Epoch [37/300], Loss: 0.0475\n",
      "Epoch [38/300], Loss: 0.0472\n",
      "Epoch [39/300], Loss: 0.0468\n",
      "Epoch [40/300], Loss: 0.0464\n",
      "Epoch [41/300], Loss: 0.0460\n",
      "Epoch [42/300], Loss: 0.0457\n",
      "Epoch [43/300], Loss: 0.0453\n",
      "Epoch [44/300], Loss: 0.0450\n",
      "Epoch [45/300], Loss: 0.0446\n",
      "Epoch [46/300], Loss: 0.0443\n",
      "Epoch [47/300], Loss: 0.0440\n",
      "Epoch [48/300], Loss: 0.0436\n",
      "Epoch [49/300], Loss: 0.0433\n",
      "Epoch [50/300], Loss: 0.0430\n",
      "Epoch [51/300], Loss: 0.0427\n",
      "Epoch [52/300], Loss: 0.0424\n",
      "Epoch [53/300], Loss: 0.0421\n",
      "Epoch [54/300], Loss: 0.0418\n",
      "Epoch [55/300], Loss: 0.0415\n",
      "Epoch [56/300], Loss: 0.0412\n",
      "Epoch [57/300], Loss: 0.0409\n",
      "Epoch [58/300], Loss: 0.0406\n",
      "Epoch [59/300], Loss: 0.0404\n",
      "Epoch [60/300], Loss: 0.0401\n",
      "Epoch [61/300], Loss: 0.0398\n",
      "Epoch [62/300], Loss: 0.0395\n",
      "Epoch [63/300], Loss: 0.0393\n",
      "Epoch [64/300], Loss: 0.0390\n",
      "Epoch [65/300], Loss: 0.0388\n",
      "Epoch [66/300], Loss: 0.0385\n",
      "Epoch [67/300], Loss: 0.0383\n",
      "Epoch [68/300], Loss: 0.0380\n",
      "Epoch [69/300], Loss: 0.0378\n",
      "Epoch [70/300], Loss: 0.0375\n",
      "Epoch [71/300], Loss: 0.0373\n",
      "Epoch [72/300], Loss: 0.0370\n",
      "Epoch [73/300], Loss: 0.0368\n",
      "Epoch [74/300], Loss: 0.0366\n",
      "Epoch [75/300], Loss: 0.0363\n",
      "Epoch [76/300], Loss: 0.0361\n",
      "Epoch [77/300], Loss: 0.0359\n",
      "Epoch [78/300], Loss: 0.0357\n",
      "Epoch [79/300], Loss: 0.0354\n",
      "Epoch [80/300], Loss: 0.0352\n",
      "Epoch [81/300], Loss: 0.0350\n",
      "Epoch [82/300], Loss: 0.0348\n",
      "Epoch [83/300], Loss: 0.0345\n",
      "Epoch [84/300], Loss: 0.0343\n",
      "Epoch [85/300], Loss: 0.0341\n",
      "Epoch [86/300], Loss: 0.0338\n",
      "Epoch [87/300], Loss: 0.0336\n",
      "Epoch [88/300], Loss: 0.0334\n",
      "Epoch [89/300], Loss: 0.0331\n",
      "Epoch [90/300], Loss: 0.0328\n",
      "Epoch [91/300], Loss: 0.0326\n",
      "Epoch [92/300], Loss: 0.0323\n",
      "Epoch [93/300], Loss: 0.0320\n",
      "Epoch [94/300], Loss: 0.0317\n",
      "Epoch [95/300], Loss: 0.0313\n",
      "Epoch [96/300], Loss: 0.0310\n",
      "Epoch [97/300], Loss: 0.0306\n",
      "Epoch [98/300], Loss: 0.0302\n",
      "Epoch [99/300], Loss: 0.0299\n",
      "Epoch [100/300], Loss: 0.0295\n",
      "Epoch [101/300], Loss: 0.0292\n",
      "Epoch [102/300], Loss: 0.0289\n",
      "Epoch [103/300], Loss: 0.0287\n",
      "Epoch [104/300], Loss: 0.0285\n",
      "Epoch [105/300], Loss: 0.0283\n",
      "Epoch [106/300], Loss: 0.0281\n",
      "Epoch [107/300], Loss: 0.0279\n",
      "Epoch [108/300], Loss: 0.0277\n",
      "Epoch [109/300], Loss: 0.0275\n",
      "Epoch [110/300], Loss: 0.0273\n",
      "Epoch [111/300], Loss: 0.0271\n",
      "Epoch [112/300], Loss: 0.0269\n",
      "Epoch [113/300], Loss: 0.0267\n",
      "Epoch [114/300], Loss: 0.0265\n",
      "Epoch [115/300], Loss: 0.0264\n",
      "Epoch [116/300], Loss: 0.0262\n",
      "Epoch [117/300], Loss: 0.0260\n",
      "Epoch [118/300], Loss: 0.0258\n",
      "Epoch [119/300], Loss: 0.0257\n",
      "Epoch [120/300], Loss: 0.0255\n",
      "Epoch [121/300], Loss: 0.0253\n",
      "Epoch [122/300], Loss: 0.0252\n",
      "Epoch [123/300], Loss: 0.0250\n",
      "Epoch [124/300], Loss: 0.0249\n",
      "Epoch [125/300], Loss: 0.0247\n",
      "Epoch [126/300], Loss: 0.0246\n",
      "Epoch [127/300], Loss: 0.0244\n",
      "Epoch [128/300], Loss: 0.0243\n",
      "Epoch [129/300], Loss: 0.0241\n",
      "Epoch [130/300], Loss: 0.0240\n",
      "Epoch [131/300], Loss: 0.0238\n",
      "Epoch [132/300], Loss: 0.0237\n",
      "Epoch [133/300], Loss: 0.0236\n",
      "Epoch [134/300], Loss: 0.0234\n",
      "Epoch [135/300], Loss: 0.0233\n",
      "Epoch [136/300], Loss: 0.0232\n",
      "Epoch [137/300], Loss: 0.0230\n",
      "Epoch [138/300], Loss: 0.0229\n",
      "Epoch [139/300], Loss: 0.0228\n",
      "Epoch [140/300], Loss: 0.0226\n",
      "Epoch [141/300], Loss: 0.0225\n",
      "Epoch [142/300], Loss: 0.0224\n",
      "Epoch [143/300], Loss: 0.0223\n",
      "Epoch [144/300], Loss: 0.0221\n",
      "Epoch [145/300], Loss: 0.0220\n",
      "Epoch [146/300], Loss: 0.0219\n",
      "Epoch [147/300], Loss: 0.0218\n",
      "Epoch [148/300], Loss: 0.0217\n",
      "Epoch [149/300], Loss: 0.0215\n",
      "Epoch [150/300], Loss: 0.0214\n",
      "Epoch [151/300], Loss: 0.0213\n",
      "Epoch [152/300], Loss: 0.0212\n",
      "Epoch [153/300], Loss: 0.0211\n",
      "Epoch [154/300], Loss: 0.0210\n",
      "Epoch [155/300], Loss: 0.0209\n",
      "Epoch [156/300], Loss: 0.0208\n",
      "Epoch [157/300], Loss: 0.0206\n",
      "Epoch [158/300], Loss: 0.0205\n",
      "Epoch [159/300], Loss: 0.0204\n",
      "Epoch [160/300], Loss: 0.0203\n",
      "Epoch [161/300], Loss: 0.0202\n",
      "Epoch [162/300], Loss: 0.0201\n",
      "Epoch [163/300], Loss: 0.0200\n",
      "Epoch [164/300], Loss: 0.0199\n",
      "Epoch [165/300], Loss: 0.0198\n",
      "Epoch [166/300], Loss: 0.0197\n",
      "Epoch [167/300], Loss: 0.0196\n",
      "Epoch [168/300], Loss: 0.0195\n",
      "Epoch [169/300], Loss: 0.0194\n",
      "Epoch [170/300], Loss: 0.0193\n",
      "Epoch [171/300], Loss: 0.0192\n",
      "Epoch [172/300], Loss: 0.0191\n",
      "Epoch [173/300], Loss: 0.0190\n",
      "Epoch [174/300], Loss: 0.0189\n",
      "Epoch [175/300], Loss: 0.0188\n",
      "Epoch [176/300], Loss: 0.0188\n",
      "Epoch [177/300], Loss: 0.0187\n",
      "Epoch [178/300], Loss: 0.0186\n",
      "Epoch [179/300], Loss: 0.0185\n",
      "Epoch [180/300], Loss: 0.0184\n",
      "Epoch [181/300], Loss: 0.0183\n",
      "Epoch [182/300], Loss: 0.0182\n",
      "Epoch [183/300], Loss: 0.0181\n",
      "Epoch [184/300], Loss: 0.0180\n",
      "Epoch [185/300], Loss: 0.0180\n",
      "Epoch [186/300], Loss: 0.0179\n",
      "Epoch [187/300], Loss: 0.0178\n",
      "Epoch [188/300], Loss: 0.0177\n",
      "Epoch [189/300], Loss: 0.0176\n",
      "Epoch [190/300], Loss: 0.0175\n",
      "Epoch [191/300], Loss: 0.0175\n",
      "Epoch [192/300], Loss: 0.0174\n",
      "Epoch [193/300], Loss: 0.0173\n",
      "Epoch [194/300], Loss: 0.0172\n",
      "Epoch [195/300], Loss: 0.0171\n",
      "Epoch [196/300], Loss: 0.0171\n",
      "Epoch [197/300], Loss: 0.0170\n",
      "Epoch [198/300], Loss: 0.0169\n",
      "Epoch [199/300], Loss: 0.0168\n",
      "Epoch [200/300], Loss: 0.0168\n",
      "Epoch [201/300], Loss: 0.0167\n",
      "Epoch [202/300], Loss: 0.0166\n",
      "Epoch [203/300], Loss: 0.0165\n",
      "Epoch [204/300], Loss: 0.0165\n",
      "Epoch [205/300], Loss: 0.0164\n",
      "Epoch [206/300], Loss: 0.0163\n",
      "Epoch [207/300], Loss: 0.0162\n",
      "Epoch [208/300], Loss: 0.0162\n",
      "Epoch [209/300], Loss: 0.0161\n",
      "Epoch [210/300], Loss: 0.0160\n",
      "Epoch [211/300], Loss: 0.0160\n",
      "Epoch [212/300], Loss: 0.0159\n",
      "Epoch [213/300], Loss: 0.0158\n",
      "Epoch [214/300], Loss: 0.0157\n",
      "Epoch [215/300], Loss: 0.0157\n",
      "Epoch [216/300], Loss: 0.0156\n",
      "Epoch [217/300], Loss: 0.0155\n",
      "Epoch [218/300], Loss: 0.0155\n",
      "Epoch [219/300], Loss: 0.0154\n",
      "Epoch [220/300], Loss: 0.0153\n",
      "Epoch [221/300], Loss: 0.0153\n",
      "Epoch [222/300], Loss: 0.0152\n",
      "Epoch [223/300], Loss: 0.0152\n",
      "Epoch [224/300], Loss: 0.0151\n",
      "Epoch [225/300], Loss: 0.0150\n",
      "Epoch [226/300], Loss: 0.0150\n",
      "Epoch [227/300], Loss: 0.0149\n",
      "Epoch [228/300], Loss: 0.0148\n",
      "Epoch [229/300], Loss: 0.0148\n",
      "Epoch [230/300], Loss: 0.0147\n",
      "Epoch [231/300], Loss: 0.0147\n",
      "Epoch [232/300], Loss: 0.0146\n",
      "Epoch [233/300], Loss: 0.0145\n",
      "Epoch [234/300], Loss: 0.0145\n",
      "Epoch [235/300], Loss: 0.0144\n",
      "Epoch [236/300], Loss: 0.0144\n",
      "Epoch [237/300], Loss: 0.0143\n",
      "Epoch [238/300], Loss: 0.0142\n",
      "Epoch [239/300], Loss: 0.0142\n",
      "Epoch [240/300], Loss: 0.0141\n",
      "Epoch [241/300], Loss: 0.0141\n",
      "Epoch [242/300], Loss: 0.0140\n",
      "Epoch [243/300], Loss: 0.0140\n",
      "Epoch [244/300], Loss: 0.0139\n",
      "Epoch [245/300], Loss: 0.0138\n",
      "Epoch [246/300], Loss: 0.0138\n",
      "Epoch [247/300], Loss: 0.0137\n",
      "Epoch [248/300], Loss: 0.0137\n",
      "Epoch [249/300], Loss: 0.0136\n",
      "Epoch [250/300], Loss: 0.0136\n",
      "Epoch [251/300], Loss: 0.0135\n",
      "Epoch [252/300], Loss: 0.0135\n",
      "Epoch [253/300], Loss: 0.0134\n",
      "Epoch [254/300], Loss: 0.0134\n",
      "Epoch [255/300], Loss: 0.0133\n",
      "Epoch [256/300], Loss: 0.0133\n",
      "Epoch [257/300], Loss: 0.0132\n",
      "Epoch [258/300], Loss: 0.0132\n",
      "Epoch [259/300], Loss: 0.0131\n",
      "Epoch [260/300], Loss: 0.0131\n",
      "Epoch [261/300], Loss: 0.0130\n",
      "Epoch [262/300], Loss: 0.0130\n",
      "Epoch [263/300], Loss: 0.0129\n",
      "Epoch [264/300], Loss: 0.0129\n",
      "Epoch [265/300], Loss: 0.0128\n",
      "Epoch [266/300], Loss: 0.0128\n",
      "Epoch [267/300], Loss: 0.0127\n",
      "Epoch [268/300], Loss: 0.0127\n",
      "Epoch [269/300], Loss: 0.0126\n",
      "Epoch [270/300], Loss: 0.0126\n",
      "Epoch [271/300], Loss: 0.0125\n",
      "Epoch [272/300], Loss: 0.0125\n",
      "Epoch [273/300], Loss: 0.0124\n",
      "Epoch [274/300], Loss: 0.0124\n",
      "Epoch [275/300], Loss: 0.0123\n",
      "Epoch [276/300], Loss: 0.0123\n",
      "Epoch [277/300], Loss: 0.0122\n",
      "Epoch [278/300], Loss: 0.0122\n",
      "Epoch [279/300], Loss: 0.0121\n",
      "Epoch [280/300], Loss: 0.0121\n",
      "Epoch [281/300], Loss: 0.0121\n",
      "Epoch [282/300], Loss: 0.0120\n",
      "Epoch [283/300], Loss: 0.0120\n",
      "Epoch [284/300], Loss: 0.0119\n",
      "Epoch [285/300], Loss: 0.0119\n",
      "Epoch [286/300], Loss: 0.0118\n",
      "Epoch [287/300], Loss: 0.0118\n",
      "Epoch [288/300], Loss: 0.0118\n",
      "Epoch [289/300], Loss: 0.0117\n",
      "Epoch [290/300], Loss: 0.0117\n",
      "Epoch [291/300], Loss: 0.0116\n",
      "Epoch [292/300], Loss: 0.0116\n",
      "Epoch [293/300], Loss: 0.0115\n",
      "Epoch [294/300], Loss: 0.0115\n",
      "Epoch [295/300], Loss: 0.0115\n",
      "Epoch [296/300], Loss: 0.0114\n",
      "Epoch [297/300], Loss: 0.0114\n",
      "Epoch [298/300], Loss: 0.0113\n",
      "Epoch [299/300], Loss: 0.0113\n",
      "Epoch [300/300], Loss: 0.0113\n"
     ]
    }
   ],
   "source": [
    "# model.compile(\n",
    "#     loss=tf.keras.losses.BinaryCrossentropy(),\n",
    "#     optimizer=tf.keras.optimizers.Adam(0.001),\n",
    "# )\n",
    "\n",
    "# model.fit(\n",
    "#     X,y,\n",
    "#     epochs=20\n",
    "# )\n",
    "\n",
    "import torch.optim as optim\n",
    "# 调用M2芯片GPU\n",
    "device = tc.device(\"mps\")\n",
    "model.to(device)\n",
    "# 定义损失函数和优化器\n",
    "criterion = nn.BCELoss()  # 二元交叉熵损失函数\n",
    "optimizer = optim.Adam(model.parameters(), lr=0.001)\n",
    "\n",
    "# 将数据转为 PyTorch 张量\n",
    "X_tensor = tc.Tensor(X).to(device)\n",
    "y_tensor = tc.Tensor(y).to(device)\n",
    "\n",
    "trainloop = 300\n",
    "# 训练模型\n",
    "for epoch in range(trainloop):\n",
    "    optimizer.zero_grad()\n",
    "    outputs = model(X_tensor)\n",
    "    loss = criterion(outputs, y_tensor)\n",
    "    loss.backward()\n",
    "    optimizer.step()\n",
    "    print(f'Epoch [{epoch + 1}/{trainloop}], Loss: {loss.item():.4f}')"
   ]
  },
  {
   "cell_type": "markdown",
   "metadata": {},
   "source": [
    "To run the model on an example to make a prediction, use [Keras `predict`](https://www.tensorflow.org/api_docs/python/tf/keras/Model). The input to `predict` is an array so the single example is reshaped to be two dimensional."
   ]
  },
  {
   "cell_type": "code",
   "execution_count": 19,
   "metadata": {
    "tags": []
   },
   "outputs": [
    {
     "name": "stdout",
     "output_type": "stream",
     "text": [
      "(1, 400)\n",
      "torch.Size([25, 400])\n"
     ]
    }
   ],
   "source": [
    "print(X[0].reshape(1, 400).shape)\n",
    "print(list(model.children())[0].weight.shape)   "
   ]
  },
  {
   "cell_type": "code",
   "execution_count": 24,
   "metadata": {},
   "outputs": [
    {
     "name": "stdout",
     "output_type": "stream",
     "text": [
      "torch.Size([1, 400])\n",
      "predicting a zero: tensor([[0.0114]], device='mps:0', grad_fn=<SigmoidBackward0>)\n",
      "predicting a zero: tensor([[0.9894]], device='mps:0', grad_fn=<SigmoidBackward0>)\n"
     ]
    }
   ],
   "source": [
    "# prediction = model.predict(X[0].reshape(1,400))  # a zero\n",
    "# print(f\" predicting a zero: {prediction}\")\n",
    "# prediction = model.predict(X[500].reshape(1,400))  # a one\n",
    "# print(f\" predicting a one:  {prediction}\")\n",
    "\n",
    "# 将输入数据转为 PyTorch 张量\n",
    "X_tensor_zero = tc.Tensor(X[0].reshape(1, 400)).to(device)  # a zero\n",
    "X_tensor_one = tc.Tensor(X[500].reshape(1, 400)).to(device)  # a one\n",
    "\n",
    "# 使用模型进行预测并查看结果\n",
    "prediction = model(X_tensor_zero)\n",
    "print(f\"predicting a zero: {prediction}\")\n",
    "prediction = model(X_tensor_one)\n",
    "print(f\"predicting a zero: {prediction}\")"
   ]
  },
  {
   "cell_type": "markdown",
   "metadata": {},
   "source": [
    "The output of the model is interpreted as a probability. In the first example above, the input is a zero. The model predicts the probability that the input is a one is nearly zero. \n",
    "In the second example, the input is a one. The model predicts the probability that the input is a one is nearly one.\n",
    "As in the case of logistic regression, the probability is compared to a threshold to make a final prediction."
   ]
  },
  {
   "cell_type": "code",
   "execution_count": 32,
   "metadata": {},
   "outputs": [
    {
     "name": "stdout",
     "output_type": "stream",
     "text": [
      "prediction after threshold: 1\n"
     ]
    }
   ],
   "source": [
    "if prediction >= 0.5:\n",
    "    yhat = 1\n",
    "else:\n",
    "    yhat = 0\n",
    "print(f\"prediction after threshold: {yhat}\")"
   ]
  },
  {
   "cell_type": "markdown",
   "metadata": {},
   "source": [
    "Let's compare the predictions vs the labels for a random sample of 64 digits. This takes a moment to run."
   ]
  },
  {
   "cell_type": "code",
   "execution_count": 52,
   "metadata": {},
   "outputs": [
    {
     "data": {
      "image/png": "[encoded data removed]",
      "text/plain": [
       "<Figure size 800x800 with 64 Axes>"
      ]
     },
     "metadata": {},
     "output_type": "display_data"
    }
   ],
   "source": [
    "import warnings\n",
    "warnings.simplefilter(action='ignore', category=FutureWarning)\n",
    "\n",
    "# 获取样本的行数（m）和特征数（n）\n",
    "m, n = X.shape\n",
    "\n",
    "# 创建一个 8x8 的子图网格，图像大小为 8x8 英寸\n",
    "fig, axes = plt.subplots(8, 8, figsize=(8, 8))\n",
    "fig.tight_layout(pad=0.1, rect=[0, 0.03, 1, 0.92]) # 调整子图之间的间距和整体位置\n",
    "\n",
    "# 遍历子图\n",
    "for i, ax in enumerate(axes.flat):\n",
    "    # 随机选择一个索引\n",
    "    random_index = np.random.randint(m)\n",
    "    \n",
    "    # 选择对应随机索引的行，并将其重塑为 20x20 的矩阵，并进行转置\n",
    "    X_random_reshaped = X[random_index].reshape((20, 20)).T\n",
    "    \n",
    "    # 在子图上显示图像\n",
    "    ax.imshow(X_random_reshaped, cmap='gray')\n",
    "    \n",
    "    # 使用神经网络进行预测\n",
    "    prediction = model(tc.Tensor(X[random_index].reshape(1, 400)).to(device))\n",
    "    if prediction >= 0.5:\n",
    "        yhat = 1\n",
    "    else:\n",
    "        yhat = 0\n",
    "    \n",
    "    # 在图像上方显示真实标签和预测值\n",
    "    ax.set_title(f\"{y[random_index,0]},{yhat}\")\n",
    "    ax.set_axis_off()\n",
    "\n",
    "# 设置整体标题\n",
    "fig.suptitle(\"Label, yhat\", fontsize=16)\n",
    "plt.show()\n"
   ]
  },
  {
   "cell_type": "markdown",
   "metadata": {
    "tags": []
   },
   "source": [
    "<a name=\"2.5\"></a>\n",
    "### 2.5 NumPy Model Implementation (Forward Prop in NumPy)\n",
    "As described in lecture, it is possible to build your own dense layer using NumPy. This can then be utilized to build a multi-layer neural network. \n",
    "\n",
    "<img src=\"images/C2_W1_dense2.PNG\" width=\"600\" height=\"450\">\n"
   ]
  },
  {
   "cell_type": "markdown",
   "metadata": {},
   "source": [
    "<a name=\"ex02\"></a>\n",
    "### Exercise 2\n",
    "\n",
    "Below, build a dense layer subroutine. The example in lecture utilized a for loop to visit each unit (`j`) in the layer and perform the dot product of the weights for that unit (`W[:,j]`) and sum the bias for the unit (`b[j]`) to form `z`. An activation function `g(z)` is then applied to that result. This section will not utilize some of the matrix operations described in the optional lectures. These will be explored in a later section."
   ]
  },
  {
   "cell_type": "code",
   "execution_count": 54,
   "metadata": {
    "tags": []
   },
   "outputs": [],
   "source": [
    "# # UNQ_C2\n",
    "# # GRADED FUNCTION: my_dense\n",
    "\n",
    "# def my_dense(a_in, W, b, g):\n",
    "#     \"\"\"\n",
    "#     Computes dense layer\n",
    "#     Args:\n",
    "#       a_in (ndarray (n, )) : Data, 1 example \n",
    "#       W    (ndarray (n,j)) : Weight matrix, n features per unit, j units\n",
    "#       b    (ndarray (j, )) : bias vector, j units  \n",
    "#       g    activation function (e.g. sigmoid, relu..)\n",
    "#     Returns\n",
    "#       a_out (ndarray (j,))  : j units\n",
    "#     \"\"\"\n",
    "#     units = W.shape[1]\n",
    "#     a_out = np.zeros(units)\n",
    "# ### START CODE HERE ### \n",
    "        \n",
    "# ### END CODE HERE ### \n",
    "#     return(a_out)\n",
    "\n",
    "\n",
    "def my_dense(a_in, W, b, g):\n",
    "    \"\"\"\n",
    "    Computes dense layer\n",
    "    Args:\n",
    "      a_in (ndarray (n, )) : Data, 1 example \n",
    "      W    (ndarray (n,j)) : Weight matrix, n features per unit, j units\n",
    "      b    (ndarray (j, )) : bias vector, j units  \n",
    "      g    activation function (e.g. sigmoid, relu..)\n",
    "    Returns\n",
    "      a_out (ndarray (j,))  : j units\n",
    "    \"\"\"\n",
    "    units = W.shape[1]\n",
    "    a_out = np.zeros(units)\n",
    "    for j in range(units):             \n",
    "        w = W[:,j]                     \n",
    "        z = np.dot(w, a_in) + b[j]     \n",
    "        a_out[j] = g(z)                \n",
    "    return(a_out)"
   ]
  },
  {
   "cell_type": "code",
   "execution_count": 55,
   "metadata": {},
   "outputs": [
    {
     "name": "stdout",
     "output_type": "stream",
     "text": [
      "[0. 0. 0.]\n"
     ]
    }
   ],
   "source": [
    "# Quick Check\n",
    "x_tst = 0.1*np.arange(1,3,1).reshape(2,)  # (1 examples, 2 features)\n",
    "W_tst = 0.1*np.arange(1,7,1).reshape(2,3) # (2 input features, 3 output features)\n",
    "b_tst = 0.1*np.arange(1,4,1).reshape(3,)  # (3 features)\n",
    "A_tst = my_dense(x_tst, W_tst, b_tst, sigmoid)\n",
    "print(A_tst)"
   ]
  },
  {
   "cell_type": "markdown",
   "metadata": {},
   "source": [
    "**Expected Output**\n",
    "```\n",
    "[0.54735762 0.57932425 0.61063923]\n",
    "```"
   ]
  },
  {
   "cell_type": "markdown",
   "metadata": {},
   "source": [
    "<details>\n",
    "  <summary><font size=\"3\" color=\"darkgreen\"><b>Click for hints</b></font></summary>\n",
    "As described in the lecture:\n",
    "    \n",
    "```python\n",
    "def my_dense(a_in, W, b, g):\n",
    "    \"\"\"\n",
    "    Computes dense layer\n",
    "    Args:\n",
    "      a_in (ndarray (n, )) : Data, 1 example \n",
    "      W    (ndarray (n,j)) : Weight matrix, n features per unit, j units\n",
    "      b    (ndarray (j, )) : bias vector, j units  \n",
    "      g    activation function (e.g. sigmoid, relu..)\n",
    "    Returns\n",
    "      a_out (ndarray (j,))  : j units\n",
    "    \"\"\"\n",
    "    units = W.shape[1]\n",
    "    a_out = np.zeros(units)\n",
    "    for j in range(units):             \n",
    "        w =                            # Select weights for unit j. These are in column j of W\n",
    "        z =                            # dot product of w and a_in + b\n",
    "        a_out[j] =                     # apply activation to z\n",
    "    return(a_out)\n",
    "```\n",
    "   \n",
    "    \n",
    "<details>\n",
    "  <summary><font size=\"3\" color=\"darkgreen\"><b>Click for more hints</b></font></summary>\n",
    "\n",
    "    \n",
    "```python\n",
    "def my_dense(a_in, W, b, g):\n",
    "    \"\"\"\n",
    "    Computes dense layer\n",
    "    Args:\n",
    "      a_in (ndarray (n, )) : Data, 1 example \n",
    "      W    (ndarray (n,j)) : Weight matrix, n features per unit, j units\n",
    "      b    (ndarray (j, )) : bias vector, j units  \n",
    "      g    activation function (e.g. sigmoid, relu..)\n",
    "    Returns\n",
    "      a_out (ndarray (j,))  : j units\n",
    "    \"\"\"\n",
    "    units = W.shape[1]\n",
    "    a_out = np.zeros(units)\n",
    "    for j in range(units):             \n",
    "        w = W[:,j]                     \n",
    "        z = np.dot(w, a_in) + b[j]     \n",
    "        a_out[j] = g(z)                \n",
    "    return(a_out)\n",
    "``` "
   ]
  },
  {
   "cell_type": "code",
   "execution_count": null,
   "metadata": {},
   "outputs": [],
   "source": [
    "# UNIT TESTS\n",
    "test_c2(my_dense)"
   ]
  },
  {
   "cell_type": "markdown",
   "metadata": {},
   "source": [
    "The following cell builds a three-layer neural network utilizing the `my_dense` subroutine above."
   ]
  },
  {
   "cell_type": "code",
   "execution_count": null,
   "metadata": {},
   "outputs": [],
   "source": [
    "def my_sequential(x, W1, b1, W2, b2, W3, b3):\n",
    "    a1 = my_dense(x,  W1, b1, sigmoid)\n",
    "    a2 = my_dense(a1, W2, b2, sigmoid)\n",
    "    a3 = my_dense(a2, W3, b3, sigmoid)\n",
    "    return(a3)"
   ]
  },
  {
   "cell_type": "markdown",
   "metadata": {},
   "source": [
    "We can copy trained weights and biases from Tensorflow."
   ]
  },
  {
   "cell_type": "code",
   "execution_count": null,
   "metadata": {},
   "outputs": [],
   "source": [
    "W1_tmp,b1_tmp = layer1.get_weights()\n",
    "W2_tmp,b2_tmp = layer2.get_weights()\n",
    "W3_tmp,b3_tmp = layer3.get_weights()"
   ]
  },
  {
   "cell_type": "code",
   "execution_count": null,
   "metadata": {
    "tags": []
   },
   "outputs": [],
   "source": [
    "# make predictions\n",
    "prediction = my_sequential(X[0], W1_tmp, b1_tmp, W2_tmp, b2_tmp, W3_tmp, b3_tmp )\n",
    "if prediction >= 0.5:\n",
    "    yhat = 1\n",
    "else:\n",
    "    yhat = 0\n",
    "print( \"yhat = \", yhat, \" label= \", y[0,0])\n",
    "prediction = my_sequential(X[500], W1_tmp, b1_tmp, W2_tmp, b2_tmp, W3_tmp, b3_tmp )\n",
    "if prediction >= 0.5:\n",
    "    yhat = 1\n",
    "else:\n",
    "    yhat = 0\n",
    "print( \"yhat = \", yhat, \" label= \", y[500,0])"
   ]
  },
  {
   "cell_type": "markdown",
   "metadata": {},
   "source": [
    "Run the following cell to see predictions from both the Numpy model and the Tensorflow model. This takes a moment to run."
   ]
  },
  {
   "cell_type": "code",
   "execution_count": null,
   "metadata": {},
   "outputs": [],
   "source": [
    "import warnings\n",
    "warnings.simplefilter(action='ignore', category=FutureWarning)\n",
    "# You do not need to modify anything in this cell\n",
    "\n",
    "m, n = X.shape\n",
    "\n",
    "fig, axes = plt.subplots(8,8, figsize=(8,8))\n",
    "fig.tight_layout(pad=0.1,rect=[0, 0.03, 1, 0.92]) #[left, bottom, right, top]\n",
    "\n",
    "for i,ax in enumerate(axes.flat):\n",
    "    # Select random indices\n",
    "    random_index = np.random.randint(m)\n",
    "    \n",
    "    # Select rows corresponding to the random indices and\n",
    "    # reshape the image\n",
    "    X_random_reshaped = X[random_index].reshape((20,20)).T\n",
    "    \n",
    "    # Display the image\n",
    "    ax.imshow(X_random_reshaped, cmap='gray')\n",
    "\n",
    "    # Predict using the Neural Network implemented in Numpy\n",
    "    my_prediction = my_sequential(X[random_index], W1_tmp, b1_tmp, W2_tmp, b2_tmp, W3_tmp, b3_tmp )\n",
    "    my_yhat = int(my_prediction >= 0.5)\n",
    "\n",
    "    # Predict using the Neural Network implemented in Tensorflow\n",
    "    tf_prediction = model.predict(X[random_index].reshape(1,400))\n",
    "    tf_yhat = int(tf_prediction >= 0.5)\n",
    "    \n",
    "    # Display the label above the image\n",
    "    ax.set_title(f\"{y[random_index,0]},{tf_yhat},{my_yhat}\")\n",
    "    ax.set_axis_off() \n",
    "fig.suptitle(\"Label, yhat Tensorflow, yhat Numpy\", fontsize=16)\n",
    "plt.show()"
   ]
  },
  {
   "cell_type": "markdown",
   "metadata": {
    "tags": []
   },
   "source": [
    "<a name=\"2.6\"></a>\n",
    "### 2.6 Vectorized NumPy Model Implementation (Optional)\n",
    "The optional lectures described vector and matrix operations that can be used to speed the calculations.\n",
    "Below describes a layer operation that computes the output for all units in a layer on a given input example:\n",
    "\n",
    "<img src=\"images/C2_W1_VectorMatrix.PNG\" width=\"600\" height=\"450\">\n",
    "\n",
    "We can demonstrate this using the examples `X` and the `W1`,`b1` parameters above. We use `np.matmul` to perform the matrix multiply. Note, the dimensions of x and W must be compatible as shown in the diagram above."
   ]
  },
  {
   "cell_type": "code",
   "execution_count": null,
   "metadata": {},
   "outputs": [],
   "source": [
    "x = X[0].reshape(-1,1)         # column vector (400,1)\n",
    "z1 = np.matmul(x.T,W1) + b1    # (1,400)(400,25) = (1,25)\n",
    "a1 = sigmoid(z1)\n",
    "print(a1.shape)"
   ]
  },
  {
   "cell_type": "markdown",
   "metadata": {},
   "source": [
    "You can take this a step further and compute all the units for all examples in one Matrix-Matrix operation.\n",
    "\n",
    "<img src=\"images/C2_W1_MatrixMatrix.PNG\" width=\"600\" height=\"450\">\n",
    "The full operation is $\\mathbf{Z}=\\mathbf{XW}+\\mathbf{b}$. This will utilize NumPy broadcasting to expand $\\mathbf{b}$ to $m$ rows. If this is unfamiliar, a short tutorial is provided at the end of the notebook."
   ]
  },
  {
   "cell_type": "markdown",
   "metadata": {},
   "source": [
    "<a name=\"ex03\"></a>\n",
    "### Exercise 3\n",
    "\n",
    "Below, compose a new `my_dense_v` subroutine that performs the layer calculations for a matrix of examples. This will utilize `np.matmul()`. "
   ]
  },
  {
   "cell_type": "code",
   "execution_count": null,
   "metadata": {
    "tags": []
   },
   "outputs": [],
   "source": [
    "# UNQ_C3\n",
    "# GRADED FUNCTION: my_dense_v\n",
    "\n",
    "def my_dense_v(A_in, W, b, g):\n",
    "    \"\"\"\n",
    "    Computes dense layer\n",
    "    Args:\n",
    "      A_in (ndarray (m,n)) : Data, m examples, n features each\n",
    "      W    (ndarray (n,j)) : Weight matrix, n features per unit, j units\n",
    "      b    (ndarray (j,1)) : bias vector, j units  \n",
    "      g    activation function (e.g. sigmoid, relu..)\n",
    "    Returns\n",
    "      A_out (ndarray (m,j)) : m examples, j units\n",
    "    \"\"\"\n",
    "### START CODE HERE ### \n",
    "    \n",
    "    \n",
    "### END CODE HERE ### \n",
    "    return(A_out)"
   ]
  },
  {
   "cell_type": "code",
   "execution_count": null,
   "metadata": {},
   "outputs": [],
   "source": [
    "X_tst = 0.1*np.arange(1,9,1).reshape(4,2) # (4 examples, 2 features)\n",
    "W_tst = 0.1*np.arange(1,7,1).reshape(2,3) # (2 input features, 3 output features)\n",
    "b_tst = 0.1*np.arange(1,4,1).reshape(1,3) # (3 features, 1)\n",
    "A_tst = my_dense_v(X_tst, W_tst, b_tst, sigmoid)\n",
    "print(A_tst)"
   ]
  },
  {
   "cell_type": "markdown",
   "metadata": {},
   "source": [
    "**Expected Output**\n",
    "\n",
    "```\n",
    "[[0.54735762 0.57932425 0.61063923]\n",
    " [0.57199613 0.61301418 0.65248946]\n",
    " [0.5962827  0.64565631 0.6921095 ]\n",
    " [0.62010643 0.67699586 0.72908792]]\n",
    " ```"
   ]
  },
  {
   "cell_type": "markdown",
   "metadata": {},
   "source": [
    "<details>\n",
    "  <summary><font size=\"3\" color=\"darkgreen\"><b>Click for hints</b></font></summary>\n",
    "    In matrix form, this can be written in one or two lines. \n",
    "    \n",
    "       Z = np.matmul of A_in and W plus b    \n",
    "       A_out is g(Z)  \n",
    "<details>\n",
    "  <summary><font size=\"3\" color=\"darkgreen\"><b>Click for code</b></font></summary>\n",
    "\n",
    "```python\n",
    "def my_dense_v(A_in, W, b, g):\n",
    "    \"\"\"\n",
    "    Computes dense layer\n",
    "    Args:\n",
    "      A_in (ndarray (m,n)) : Data, m examples, n features each\n",
    "      W    (ndarray (n,j)) : Weight matrix, n features per unit, j units\n",
    "      b    (ndarray (j,1)) : bias vector, j units  \n",
    "      g    activation function (e.g. sigmoid, relu..)\n",
    "    Returns\n",
    "      A_out (ndarray (m,j)) : m examples, j units\n",
    "    \"\"\"\n",
    "    Z = np.matmul(A_in,W) + b    \n",
    "    A_out = g(Z)                 \n",
    "    return(A_out)\n",
    "```\n"
   ]
  },
  {
   "cell_type": "code",
   "execution_count": null,
   "metadata": {},
   "outputs": [],
   "source": [
    "# UNIT TESTS\n",
    "test_c3(my_dense_v)"
   ]
  },
  {
   "cell_type": "markdown",
   "metadata": {},
   "source": [
    "The following cell builds a three-layer neural network utilizing the `my_dense_v` subroutine above."
   ]
  },
  {
   "cell_type": "code",
   "execution_count": null,
   "metadata": {},
   "outputs": [],
   "source": [
    "def my_sequential_v(X, W1, b1, W2, b2, W3, b3):\n",
    "    A1 = my_dense_v(X,  W1, b1, sigmoid)\n",
    "    A2 = my_dense_v(A1, W2, b2, sigmoid)\n",
    "    A3 = my_dense_v(A2, W3, b3, sigmoid)\n",
    "    return(A3)"
   ]
  },
  {
   "cell_type": "markdown",
   "metadata": {},
   "source": [
    "We can again copy trained weights and biases from Tensorflow."
   ]
  },
  {
   "cell_type": "code",
   "execution_count": null,
   "metadata": {},
   "outputs": [],
   "source": [
    "W1_tmp,b1_tmp = layer1.get_weights()\n",
    "W2_tmp,b2_tmp = layer2.get_weights()\n",
    "W3_tmp,b3_tmp = layer3.get_weights()"
   ]
  },
  {
   "cell_type": "markdown",
   "metadata": {},
   "source": [
    "Let's make a prediction with the new model. This will make a prediction on *all of the examples at once*. Note the shape of the output."
   ]
  },
  {
   "cell_type": "code",
   "execution_count": null,
   "metadata": {
    "tags": []
   },
   "outputs": [],
   "source": [
    "Prediction = my_sequential_v(X, W1_tmp, b1_tmp, W2_tmp, b2_tmp, W3_tmp, b3_tmp )\n",
    "Prediction.shape"
   ]
  },
  {
   "cell_type": "markdown",
   "metadata": {},
   "source": [
    "We'll apply a threshold of 0.5 as before, but to all predictions at once."
   ]
  },
  {
   "cell_type": "code",
   "execution_count": null,
   "metadata": {},
   "outputs": [],
   "source": [
    "Yhat = (Prediction >= 0.5).numpy().astype(int)\n",
    "print(\"predict a zero: \",Yhat[0], \"predict a one: \", Yhat[500])"
   ]
  },
  {
   "cell_type": "markdown",
   "metadata": {},
   "source": [
    "Run the following cell to see predictions. This will use the predictions we just calculated above. This takes a moment to run."
   ]
  },
  {
   "cell_type": "code",
   "execution_count": null,
   "metadata": {},
   "outputs": [],
   "source": [
    "import warnings\n",
    "warnings.simplefilter(action='ignore', category=FutureWarning)\n",
    "# You do not need to modify anything in this cell\n",
    "\n",
    "m, n = X.shape\n",
    "\n",
    "fig, axes = plt.subplots(8, 8, figsize=(8, 8))\n",
    "fig.tight_layout(pad=0.1, rect=[0, 0.03, 1, 0.92]) #[left, bottom, right, top]\n",
    "\n",
    "for i, ax in enumerate(axes.flat):\n",
    "    # Select random indices\n",
    "    random_index = np.random.randint(m)\n",
    "    \n",
    "    # Select rows corresponding to the random indices and\n",
    "    # reshape the image\n",
    "    X_random_reshaped = X[random_index].reshape((20, 20)).T\n",
    "    \n",
    "    # Display the image\n",
    "    ax.imshow(X_random_reshaped, cmap='gray')\n",
    "   \n",
    "    # Display the label above the image\n",
    "    ax.set_title(f\"{y[random_index,0]}, {Yhat[random_index, 0]}\")\n",
    "    ax.set_axis_off() \n",
    "fig.suptitle(\"Label, Yhat\", fontsize=16)\n",
    "plt.show()"
   ]
  },
  {
   "cell_type": "markdown",
   "metadata": {},
   "source": [
    "You can see how one of the misclassified images looks."
   ]
  },
  {
   "cell_type": "code",
   "execution_count": null,
   "metadata": {},
   "outputs": [],
   "source": [
    "fig = plt.figure(figsize=(1, 1))\n",
    "errors = np.where(y != Yhat)\n",
    "random_index = errors[0][0]\n",
    "X_random_reshaped = X[random_index].reshape((20, 20)).T\n",
    "plt.imshow(X_random_reshaped, cmap='gray')\n",
    "plt.title(f\"{y[random_index,0]}, {Yhat[random_index, 0]}\")\n",
    "plt.axis('off')\n",
    "plt.show()"
   ]
  },
  {
   "cell_type": "markdown",
   "metadata": {},
   "source": [
    "<a name=\"2.7\"></a>\n",
    "### 2.7 Congratulations!\n",
    "You have successfully built and utilized a neural network."
   ]
  },
  {
   "cell_type": "markdown",
   "metadata": {
    "tags": []
   },
   "source": [
    "<a name=\"2.8\"></a>\n",
    "### 2.8 NumPy Broadcasting Tutorial (Optional)\n"
   ]
  },
  {
   "cell_type": "markdown",
   "metadata": {
    "tags": []
   },
   "source": [
    "In the last example,  $\\mathbf{Z}=\\mathbf{XW} + \\mathbf{b}$ utilized NumPy broadcasting to expand the vector $\\mathbf{b}$. If you are not familiar with NumPy Broadcasting, this short tutorial is provided.\n",
    "\n",
    "$\\mathbf{XW}$  is a matrix-matrix operation with dimensions $(m,j_1)(j_1,j_2)$ which results in a matrix with dimension  $(m,j_2)$. To that, we add a vector $\\mathbf{b}$ with dimension $(j_2,)$.  $\\mathbf{b}$ must be expanded to be a $(m,j_2)$ matrix for this element-wise operation to make sense. This expansion is accomplished for you by NumPy broadcasting."
   ]
  },
  {
   "cell_type": "markdown",
   "metadata": {},
   "source": [
    "Broadcasting applies to element-wise operations.  \n",
    "Its basic operation is to 'stretch' a smaller dimension by replicating elements to match a larger dimension.\n",
    "\n",
    "More [specifically](https://NumPy.org/doc/stable/user/basics.broadcasting.html): \n",
    "When operating on two arrays, NumPy compares their shapes element-wise. It starts with the trailing (i.e. rightmost) dimensions and works its way left. Two dimensions are compatible when\n",
    "- they are equal, or\n",
    "- one of them is 1   \n",
    "\n",
    "If these conditions are not met, a ValueError: operands could not be broadcast together exception is thrown, indicating that the arrays have incompatible shapes. The size of the resulting array is the size that is not 1 along each axis of the inputs.\n",
    "\n",
    "Here are some examples:"
   ]
  },
  {
   "cell_type": "markdown",
   "metadata": {},
   "source": [
    "<figure>\n",
    "    <center> <img src=\"./images/C2_W1_Assign1_BroadcastIndexes.PNG\"  alt='missing' width=\"400\"  ><center/>\n",
    "    <figcaption>Calculating Broadcast Result shape</figcaption>\n",
    "<figure/>"
   ]
  },
  {
   "cell_type": "markdown",
   "metadata": {},
   "source": [
    "The graphic below describes expanding dimensions. Note the red text below:"
   ]
  },
  {
   "cell_type": "markdown",
   "metadata": {},
   "source": [
    "<figure>\n",
    "    <center> <img src=\"./images/C2_W1_Assign1_Broadcasting.gif\"  alt='missing' width=\"600\"  ><center/>\n",
    "    <figcaption>Broadcast notionally expands arguments to match for element wise operations</figcaption>\n",
    "<figure/>"
   ]
  },
  {
   "cell_type": "markdown",
   "metadata": {},
   "source": [
    "The graphic above shows NumPy expanding the arguments to match before the final operation. Note that this is a notional description. The actual mechanics of NumPy operation choose the most efficient implementation.\n",
    "\n",
    "For each of the following examples, try to guess the size of the result before running the example."
   ]
  },
  {
   "cell_type": "code",
   "execution_count": null,
   "metadata": {},
   "outputs": [],
   "source": [
    "a = np.array([1,2,3]).reshape(-1,1)  #(3,1)\n",
    "b = 5\n",
    "print(f\"(a + b).shape: {(a + b).shape}, \\na + b = \\n{a + b}\")"
   ]
  },
  {
   "cell_type": "markdown",
   "metadata": {},
   "source": [
    "Note that this applies to all element-wise operations:"
   ]
  },
  {
   "cell_type": "code",
   "execution_count": null,
   "metadata": {},
   "outputs": [],
   "source": [
    "a = np.array([1,2,3]).reshape(-1,1)  #(3,1)\n",
    "b = 5\n",
    "print(f\"(a * b).shape: {(a * b).shape}, \\na * b = \\n{a * b}\")"
   ]
  },
  {
   "cell_type": "markdown",
   "metadata": {},
   "source": [
    "<figure>\n",
    "    <img src=\"./images/C2_W1_Assign1_VectorAdd.PNG\"  alt='missing' width=\"740\" >\n",
    "    <center><figcaption><b>Row-Column Element-Wise Operations</b></figcaption></center>\n",
    "<figure/>"
   ]
  },
  {
   "cell_type": "code",
   "execution_count": null,
   "metadata": {},
   "outputs": [],
   "source": [
    "a = np.array([1,2,3,4]).reshape(-1,1)\n",
    "b = np.array([1,2,3]).reshape(1,-1)\n",
    "print(a)\n",
    "print(b)\n",
    "print(f\"(a + b).shape: {(a + b).shape}, \\na + b = \\n{a + b}\")"
   ]
  },
  {
   "cell_type": "markdown",
   "metadata": {},
   "source": [
    "This is the scenario in the dense layer you built above. Adding a 1-D vector $b$ to a (m,j) matrix.\n",
    "<figure>\n",
    "    <img src=\"./images/C2_W1_Assign1_BroadcastMatrix.PNG\"  alt='missing' width=\"740\" >\n",
    "    <center><figcaption><b>Matrix + 1-D Vector</b></figcaption></center>\n",
    "<figure/>"
   ]
  },
  {
   "cell_type": "code",
   "execution_count": 1,
   "metadata": {
    "tags": []
   },
   "outputs": [
    {
     "name": "stdout",
     "output_type": "stream",
     "text": [
      "3.10.11 (main, Apr 20 2023, 13:58:42) [Clang 14.0.6 ]\n"
     ]
    }
   ],
   "source": [
    "import sys\n",
    "\n",
    "print(sys.version)\n"
   ]
  }
 ],
 "metadata": {
  "dl_toc_settings": {
   "rndtag": "89367"
  },
  "kernelspec": {
   "display_name": "EndaWu_MachineLearning",
   "language": "python",
   "name": "endawu_machinelearning"
  },
  "language_info": {
   "codemirror_mode": {
    "name": "ipython",
    "version": 3
   },
   "file_extension": ".py",
   "mimetype": "text/x-python",
   "name": "python",
   "nbconvert_exporter": "python",
   "pygments_lexer": "ipython3",
   "version": "3.8.18"
  }
 },
 "nbformat": 4,
 "nbformat_minor": 4
}
